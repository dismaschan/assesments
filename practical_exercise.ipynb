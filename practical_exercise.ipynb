{
 "cells": [
  {
   "cell_type": "markdown",
   "metadata": {},
   "source": [
    "## Q1"
   ]
  },
  {
   "cell_type": "code",
   "execution_count": 1,
   "metadata": {},
   "outputs": [
    {
     "name": "stdout",
     "output_type": "stream",
     "text": [
      "Enter Breadth:21\n",
      "Enter Width:12\n",
      "Rectangle\n"
     ]
    }
   ],
   "source": [
    "bdt=input(\"Enter Breadth:\")\n",
    "lgt=input(\"Enter Width:\")\n",
    "\n",
    "try:\n",
    "    bdt=float(bdt)\n",
    "    lgt=float(lgt)\n",
    "\n",
    "    if bdt == lgt :\n",
    "        print(\"Square\")\n",
    "    else:\n",
    "        print(\"Rectangle\")\n",
    "except:\n",
    "    print(\"Enter a numerical value!\")"
   ]
  },
  {
   "cell_type": "markdown",
   "metadata": {},
   "source": [
    "# Q2"
   ]
  },
  {
   "cell_type": "code",
   "execution_count": 3,
   "metadata": {},
   "outputs": [
    {
     "name": "stdout",
     "output_type": "stream",
     "text": [
      "First number:21\n",
      "second number:21.1\n",
      "21.1 is greater.\n"
     ]
    }
   ],
   "source": [
    "try:\n",
    "    value1=input(\"First number:\")\n",
    "    value2=input(\"second number:\")\n",
    "    va1=float(value1)\n",
    "    va2=float(value2)\n",
    "\n",
    "    if va1>va2:\n",
    "        print(va1,\"is greater.\")\n",
    "    else:\n",
    "        print(va2,\"is greater.\")\n",
    "except:\n",
    "    print(\"Enter a numerical value!\")"
   ]
  },
  {
   "cell_type": "markdown",
   "metadata": {},
   "source": [
    "# Q3"
   ]
  },
  {
   "cell_type": "code",
   "execution_count": 7,
   "metadata": {},
   "outputs": [
    {
     "name": "stdout",
     "output_type": "stream",
     "text": [
      "enter quantity:11\n",
      "Your discounted cost is 990.0 shillings.\n"
     ]
    }
   ],
   "source": [
    "try:\n",
    "    qnty=input(\"enter quantity:\")\n",
    "    qnty=int(qnty)\n",
    "\n",
    "    price=qnty*100\n",
    "\n",
    "    if price>1000 :\n",
    "        dprice=0.9*price\n",
    "        print(\"Your discounted cost is\",dprice,\"shillings.\")\n",
    "    else:\n",
    "        print(\"Your total cost is\",price,\"shillings.\")\n",
    "except:\n",
    "    print(\"Enter a numerical value!\")"
   ]
  },
  {
   "cell_type": "markdown",
   "metadata": {},
   "source": [
    "# Q4"
   ]
  },
  {
   "cell_type": "code",
   "execution_count": 2,
   "metadata": {},
   "outputs": [
    {
     "name": "stdout",
     "output_type": "stream",
     "text": [
      "Enter salary:75000\n",
      "Enter year(s) of service:7\n",
      "your salary is 82500.0 Ksh.\n"
     ]
    }
   ],
   "source": [
    "try:\n",
    "    sal=int(input(\"Enter salary:\"))\n",
    "    serv=int(input(\"Enter year(s) of service:\"))\n",
    "\n",
    "    if serv <= 5 :\n",
    "        sal1=1.05*sal\n",
    "        print(\"your salary is\",sal1,\"Ksh.\")\n",
    "    elif serv<10:\n",
    "        sal2=1.1*sal\n",
    "        print(\"your salary is\",sal2,\"Ksh.\")\n",
    "    else:\n",
    "        serv >= 10\n",
    "        sal3=1.15*sal\n",
    "        print(\"your salary is\",sal3,\"Ksh.\")\n",
    "except:\n",
    "    print(\"enter a numerical value!\")\n"
   ]
  },
  {
   "cell_type": "markdown",
   "metadata": {},
   "source": [
    "# Q5"
   ]
  },
  {
   "cell_type": "code",
   "execution_count": 4,
   "metadata": {},
   "outputs": [
    {
     "name": "stdout",
     "output_type": "stream",
     "text": [
      "Enter mark:79\n",
      "79 You've scored a B !\n"
     ]
    }
   ],
   "source": [
    "try:\n",
    "    mark=int(input(\"Enter mark:\"))\n",
    "\n",
    "    if mark < 25:\n",
    "        print(mark,\"You've scored an F !\")\n",
    "    elif mark <45:\n",
    "        print(mark,\"You've scored an E !\")\n",
    "    elif mark <50:\n",
    "        print(mark,\"You've scored a D !\")\n",
    "    elif mark <60:\n",
    "        print(mark,\"You've scored a C !\")\n",
    "    elif mark <80:\n",
    "        print(mark,\"You've scored a B !\")\n",
    "    else:\n",
    "        print(mark,\"You've scored an A !\")\n",
    "except:\n",
    "    print(\"Enter a numerical value!\")"
   ]
  },
  {
   "cell_type": "markdown",
   "metadata": {},
   "source": [
    "# Q6"
   ]
  },
  {
   "cell_type": "code",
   "execution_count": 4,
   "metadata": {},
   "outputs": [
    {
     "name": "stdout",
     "output_type": "stream",
     "text": [
      "First person's age:21\n",
      "Second person's age:22\n",
      "First person's age:20\n",
      "first person is the oldest\n",
      "third person is the youngest\n",
      "the average age is 21.0\n"
     ]
    }
   ],
   "source": [
    " try:\n",
    "    pn1=int(input(\"First person's age:\"))\n",
    "    pn2=int(input(\"Second person's age:\"))\n",
    "    pn3=int(input(\"First person's age:\"))\n",
    "\n",
    "    if pn1 > (pn2 and pn3):\n",
    "        print(\"first person is the oldest\")\n",
    "    elif pn2 > (pn1 and pn3):\n",
    "        print(\"second person is the oldest\")\n",
    "    else:\n",
    "        pn3 > (pn1 and pn2)\n",
    "        print(\"third person is the oldest\")\n",
    "\n",
    "    if pn1 < (pn2 and pn3):\n",
    "        print(\"first person is the youngest\")\n",
    "    elif pn2 < (pn1 and pn3):\n",
    "        print(\"second person is the youngest\")\n",
    "    else:\n",
    "        pn3 < (pn1 and pn2)\n",
    "        print(\"third person is the youngest\")\n",
    "\n",
    "    avg= float((pn1+pn2+pn3)/3)\n",
    "    print (\"the average age is\",avg)\n",
    "except:\n",
    "    print(\"enter numerical values!\")\n"
   ]
  },
  {
   "cell_type": "markdown",
   "metadata": {},
   "source": [
    "# Q7"
   ]
  },
  {
   "cell_type": "code",
   "execution_count": 13,
   "metadata": {},
   "outputs": [
    {
     "name": "stdout",
     "output_type": "stream",
     "text": [
      "Enter total number of classes held:30\n",
      "Enter number of classes attended:19\n",
      "attendance is 63.33333333333333 %\n",
      "you have attended less than 75% of classes held.\n",
      "Do you have a medical cause/evidence:(yes/no)-yes\n",
      "You've been ALLOWED to sit for the exam.\n"
     ]
    }
   ],
   "source": [
    "try:\n",
    "    held=int(input(\"Enter total number of classes held:\"))\n",
    "    attd=int(input(\"Enter number of classes attended:\"))\n",
    "    \n",
    "    pattd=attd/held*100\n",
    "    \n",
    "    if attd > held:\n",
    "        print(\"Incorrect values!\")        \n",
    "    elif pattd >= 75:\n",
    "        print(\"attendance is\",pattd,\"%\")\n",
    "        print(\"you have attended 75% and above.\")\n",
    "        print(\"You've been ALLOWED to sit for the exam.\")\n",
    "    else:\n",
    "        print(\"attendance is\",pattd,\"%\")\n",
    "        print(\"you have attended less than 75% of classes held.\")\n",
    "        alld=input(\"Do you have a medical cause/evidence:(yes/no)-\")\n",
    "        if alld == \"yes\":\n",
    "            print(\"You've been ALLOWED to sit for the exam.\")\n",
    "        elif alld == \"no\":\n",
    "            print (\"You CANNOT sit for the exam.\")\n",
    "        else:\n",
    "            print(\"Please enter 'yes' or 'no' !\")\n",
    "        \n",
    "except:\n",
    "    print(\"enter a numerical value!\")\n",
    "              \n",
    "        "
   ]
  },
  {
   "cell_type": "code",
   "execution_count": null,
   "metadata": {},
   "outputs": [],
   "source": []
  }
 ],
 "metadata": {
  "kernelspec": {
   "display_name": "Python 3",
   "language": "python",
   "name": "python3"
  },
  "language_info": {
   "codemirror_mode": {
    "name": "ipython",
    "version": 3
   },
   "file_extension": ".py",
   "mimetype": "text/x-python",
   "name": "python",
   "nbconvert_exporter": "python",
   "pygments_lexer": "ipython3",
   "version": "3.7.3"
  }
 },
 "nbformat": 4,
 "nbformat_minor": 2
}
