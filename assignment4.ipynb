{
 "cells": [
  {
   "cell_type": "code",
   "execution_count": 3,
   "metadata": {},
   "outputs": [
    {
     "name": "stdout",
     "output_type": "stream",
     "text": [
      "number is here\n"
     ]
    }
   ],
   "source": [
    "numbers = [15,41,12,9,74,3,41,41]\n",
    "count = 0\n",
    "for number in numbers:\n",
    "    if  number == 41:\n",
    "        numb2 = number\n",
    "        count = count + 1\n",
    "        ok = (\"number is here\")\n",
    "    else:\n",
    "        okay = (\"not here\")\n",
    "if count >= 1:\n",
    "    print (ok)\n",
    "else:\n",
    "    print (okay)\n",
    "        "
   ]
  }
 ],
 "metadata": {
  "kernelspec": {
   "display_name": "Python 3",
   "language": "python",
   "name": "python3"
  },
  "language_info": {
   "codemirror_mode": {
    "name": "ipython",
    "version": 3
   },
   "file_extension": ".py",
   "mimetype": "text/x-python",
   "name": "python",
   "nbconvert_exporter": "python",
   "pygments_lexer": "ipython3",
   "version": "3.7.3"
  }
 },
 "nbformat": 4,
 "nbformat_minor": 2
}
