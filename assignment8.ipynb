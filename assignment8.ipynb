{
 "cells": [
  {
   "cell_type": "code",
   "execution_count": 26,
   "metadata": {},
   "outputs": [
    {
     "data": {
      "text/plain": [
       "(('source@collab.sakaiproject.org', 1644),\n",
       " ('zqian@umich.edu', 165),\n",
       " ('mmmay@indiana.edu', 161),\n",
       " ('cwen@iupui.edu', 157),\n",
       " ('chmaurer@iupui.edu', 107),\n",
       " ('jimeng@umich.edu', 93),\n",
       " ('aaronz@vt.edu', 82),\n",
       " ('rjlowe@iupui.edu', 79),\n",
       " ('ian@caret.cam.ac.uk', 79),\n",
       " ('dlhaines@umich.edu', 72))"
      ]
     },
     "execution_count": 26,
     "metadata": {},
     "output_type": "execute_result"
    }
   ],
   "source": [
    "hfile = open(\"mbox.txt\",\"r\")\n",
    "emails = dict()\n",
    "for i in hfile:\n",
    "    if i.startswith(\"From:\") or i.startswith(\"To:\"):\n",
    "        x = i.split()\n",
    "        y = x[1]\n",
    "        \n",
    "        if y not in emails:\n",
    "            emails[y]=1\n",
    "        else:\n",
    "            emails[y]=emails[y]+1\n",
    "            \n",
    "        def number(a):\n",
    "            return a[1]\n",
    "        \n",
    "        frequency = sorted(emails.items(), key=number, reverse=True)\n",
    "        tup = tuple(frequency[:10])\n",
    "tup\n"
   ]
  },
  {
   "cell_type": "code",
   "execution_count": null,
   "metadata": {},
   "outputs": [],
   "source": []
  },
  {
   "cell_type": "code",
   "execution_count": null,
   "metadata": {},
   "outputs": [],
   "source": []
  },
  {
   "cell_type": "code",
   "execution_count": null,
   "metadata": {},
   "outputs": [],
   "source": []
  }
 ],
 "metadata": {
  "kernelspec": {
   "display_name": "Python 3",
   "language": "python",
   "name": "python3"
  },
  "language_info": {
   "codemirror_mode": {
    "name": "ipython",
    "version": 3
   },
   "file_extension": ".py",
   "mimetype": "text/x-python",
   "name": "python",
   "nbconvert_exporter": "python",
   "pygments_lexer": "ipython3",
   "version": "3.7.3"
  }
 },
 "nbformat": 4,
 "nbformat_minor": 2
}
