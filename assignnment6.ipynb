{
 "cells": [
  {
   "cell_type": "code",
   "execution_count": 1,
   "metadata": {},
   "outputs": [
    {
     "name": "stdout",
     "output_type": "stream",
     "text": [
      "Thu is the most frequent day that people sent mails, 352 times\n",
      "29 is the most frequent date that people sent mails, 140 times\n"
     ]
    }
   ],
   "source": [
    "hfile = open(\"mbox.txt\",\"r\")\n",
    "days = list()\n",
    "dates = list()\n",
    "day_count = 0\n",
    "date_count = 0\n",
    "for i in hfile:\n",
    "    if i.startswith(\"From \"):\n",
    "        x = i.split()\n",
    "        day = x[2]\n",
    "        date = x[4]\n",
    "        days.append(day)\n",
    "        dates.append(date)\n",
    "\n",
    "for n in days:\n",
    "    day_number = days.count(n)\n",
    "    if day_number > day_count:\n",
    "        actual_day = n\n",
    "        day_count = day_number\n",
    "for a in dates:\n",
    "    date_number = dates.count(a)\n",
    "    if date_number > date_count:\n",
    "        actual_date = a\n",
    "        date_count = date_number\n",
    "\n",
    "\n",
    "print(actual_day,\"is the most frequent day that people sent mails,\",day_count,\"times\")\n",
    "print(actual_date,\"is the most frequent date that people sent mails,\",date_count,\"times\")"
   ]
  }
 ],
 "metadata": {
  "kernelspec": {
   "display_name": "Python 3",
   "language": "python",
   "name": "python3"
  },
  "language_info": {
   "codemirror_mode": {
    "name": "ipython",
    "version": 3
   },
   "file_extension": ".py",
   "mimetype": "text/x-python",
   "name": "python",
   "nbconvert_exporter": "python",
   "pygments_lexer": "ipython3",
   "version": "3.7.3"
  }
 },
 "nbformat": 4,
 "nbformat_minor": 2
}
